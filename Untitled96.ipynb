{
  "nbformat": 4,
  "nbformat_minor": 0,
  "metadata": {
    "colab": {
      "provenance": [],
      "authorship_tag": "ABX9TyO9hCnHLiznChmqH4yZSd72",
      "include_colab_link": true
    },
    "kernelspec": {
      "name": "python3",
      "display_name": "Python 3"
    },
    "language_info": {
      "name": "python"
    }
  },
  "cells": [
    {
      "cell_type": "markdown",
      "metadata": {
        "id": "view-in-github",
        "colab_type": "text"
      },
      "source": [
        "<a href=\"https://colab.research.google.com/github/Dhivyaindhu/SKILL_UPGRADE_AUGUST_TASK_3/blob/main/Untitled96.ipynb\" target=\"_parent\"><img src=\"https://colab.research.google.com/assets/colab-badge.svg\" alt=\"Open In Colab\"/></a>"
      ]
    },
    {
      "cell_type": "markdown",
      "source": [
        "TASK-3(HYPOTHESIS TESTING)\n",
        "\n"
      ],
      "metadata": {
        "id": "Kga9sPHnsrsO"
      }
    },
    {
      "cell_type": "code",
      "execution_count": 1,
      "metadata": {
        "colab": {
          "base_uri": "https://localhost:8080/",
          "height": 206
        },
        "id": "s9shz8YospK_",
        "outputId": "d206d209-930b-41ce-a846-d9bdd4d23e60"
      },
      "outputs": [
        {
          "output_type": "execute_result",
          "data": {
            "text/plain": [
              "                 Title         Director        Genre  \\\n",
              "0  Key entire popular.   Anthony Becker       Horror   \n",
              "1  Gun husband reveal.  William Johnson  Documentary   \n",
              "2         Crime cover.           Amy Le        Drama   \n",
              "3           Challenge.  Andrea Martinez      Romance   \n",
              "4         Close study.  Michael Rodgers      Fantasy   \n",
              "\n",
              "                        Duration  Rating  \n",
              "0  1970-01-01 00:00:00.000000102       6  \n",
              "1  1970-01-01 00:00:00.000000092       7  \n",
              "2  1970-01-01 00:00:00.000000144       5  \n",
              "3  1970-01-01 00:00:00.000000161       2  \n",
              "4  1970-01-01 00:00:00.000000177       3  "
            ],
            "text/html": [
              "\n",
              "  <div id=\"df-1f6bc344-67bb-4665-89a0-ca924d0743df\" class=\"colab-df-container\">\n",
              "    <div>\n",
              "<style scoped>\n",
              "    .dataframe tbody tr th:only-of-type {\n",
              "        vertical-align: middle;\n",
              "    }\n",
              "\n",
              "    .dataframe tbody tr th {\n",
              "        vertical-align: top;\n",
              "    }\n",
              "\n",
              "    .dataframe thead th {\n",
              "        text-align: right;\n",
              "    }\n",
              "</style>\n",
              "<table border=\"1\" class=\"dataframe\">\n",
              "  <thead>\n",
              "    <tr style=\"text-align: right;\">\n",
              "      <th></th>\n",
              "      <th>Title</th>\n",
              "      <th>Director</th>\n",
              "      <th>Genre</th>\n",
              "      <th>Duration</th>\n",
              "      <th>Rating</th>\n",
              "    </tr>\n",
              "  </thead>\n",
              "  <tbody>\n",
              "    <tr>\n",
              "      <th>0</th>\n",
              "      <td>Key entire popular.</td>\n",
              "      <td>Anthony Becker</td>\n",
              "      <td>Horror</td>\n",
              "      <td>1970-01-01 00:00:00.000000102</td>\n",
              "      <td>6</td>\n",
              "    </tr>\n",
              "    <tr>\n",
              "      <th>1</th>\n",
              "      <td>Gun husband reveal.</td>\n",
              "      <td>William Johnson</td>\n",
              "      <td>Documentary</td>\n",
              "      <td>1970-01-01 00:00:00.000000092</td>\n",
              "      <td>7</td>\n",
              "    </tr>\n",
              "    <tr>\n",
              "      <th>2</th>\n",
              "      <td>Crime cover.</td>\n",
              "      <td>Amy Le</td>\n",
              "      <td>Drama</td>\n",
              "      <td>1970-01-01 00:00:00.000000144</td>\n",
              "      <td>5</td>\n",
              "    </tr>\n",
              "    <tr>\n",
              "      <th>3</th>\n",
              "      <td>Challenge.</td>\n",
              "      <td>Andrea Martinez</td>\n",
              "      <td>Romance</td>\n",
              "      <td>1970-01-01 00:00:00.000000161</td>\n",
              "      <td>2</td>\n",
              "    </tr>\n",
              "    <tr>\n",
              "      <th>4</th>\n",
              "      <td>Close study.</td>\n",
              "      <td>Michael Rodgers</td>\n",
              "      <td>Fantasy</td>\n",
              "      <td>1970-01-01 00:00:00.000000177</td>\n",
              "      <td>3</td>\n",
              "    </tr>\n",
              "  </tbody>\n",
              "</table>\n",
              "</div>\n",
              "    <div class=\"colab-df-buttons\">\n",
              "\n",
              "  <div class=\"colab-df-container\">\n",
              "    <button class=\"colab-df-convert\" onclick=\"convertToInteractive('df-1f6bc344-67bb-4665-89a0-ca924d0743df')\"\n",
              "            title=\"Convert this dataframe to an interactive table.\"\n",
              "            style=\"display:none;\">\n",
              "\n",
              "  <svg xmlns=\"http://www.w3.org/2000/svg\" height=\"24px\" viewBox=\"0 -960 960 960\">\n",
              "    <path d=\"M120-120v-720h720v720H120Zm60-500h600v-160H180v160Zm220 220h160v-160H400v160Zm0 220h160v-160H400v160ZM180-400h160v-160H180v160Zm440 0h160v-160H620v160ZM180-180h160v-160H180v160Zm440 0h160v-160H620v160Z\"/>\n",
              "  </svg>\n",
              "    </button>\n",
              "\n",
              "  <style>\n",
              "    .colab-df-container {\n",
              "      display:flex;\n",
              "      gap: 12px;\n",
              "    }\n",
              "\n",
              "    .colab-df-convert {\n",
              "      background-color: #E8F0FE;\n",
              "      border: none;\n",
              "      border-radius: 50%;\n",
              "      cursor: pointer;\n",
              "      display: none;\n",
              "      fill: #1967D2;\n",
              "      height: 32px;\n",
              "      padding: 0 0 0 0;\n",
              "      width: 32px;\n",
              "    }\n",
              "\n",
              "    .colab-df-convert:hover {\n",
              "      background-color: #E2EBFA;\n",
              "      box-shadow: 0px 1px 2px rgba(60, 64, 67, 0.3), 0px 1px 3px 1px rgba(60, 64, 67, 0.15);\n",
              "      fill: #174EA6;\n",
              "    }\n",
              "\n",
              "    .colab-df-buttons div {\n",
              "      margin-bottom: 4px;\n",
              "    }\n",
              "\n",
              "    [theme=dark] .colab-df-convert {\n",
              "      background-color: #3B4455;\n",
              "      fill: #D2E3FC;\n",
              "    }\n",
              "\n",
              "    [theme=dark] .colab-df-convert:hover {\n",
              "      background-color: #434B5C;\n",
              "      box-shadow: 0px 1px 3px 1px rgba(0, 0, 0, 0.15);\n",
              "      filter: drop-shadow(0px 1px 2px rgba(0, 0, 0, 0.3));\n",
              "      fill: #FFFFFF;\n",
              "    }\n",
              "  </style>\n",
              "\n",
              "    <script>\n",
              "      const buttonEl =\n",
              "        document.querySelector('#df-1f6bc344-67bb-4665-89a0-ca924d0743df button.colab-df-convert');\n",
              "      buttonEl.style.display =\n",
              "        google.colab.kernel.accessAllowed ? 'block' : 'none';\n",
              "\n",
              "      async function convertToInteractive(key) {\n",
              "        const element = document.querySelector('#df-1f6bc344-67bb-4665-89a0-ca924d0743df');\n",
              "        const dataTable =\n",
              "          await google.colab.kernel.invokeFunction('convertToInteractive',\n",
              "                                                    [key], {});\n",
              "        if (!dataTable) return;\n",
              "\n",
              "        const docLinkHtml = 'Like what you see? Visit the ' +\n",
              "          '<a target=\"_blank\" href=https://colab.research.google.com/notebooks/data_table.ipynb>data table notebook</a>'\n",
              "          + ' to learn more about interactive tables.';\n",
              "        element.innerHTML = '';\n",
              "        dataTable['output_type'] = 'display_data';\n",
              "        await google.colab.output.renderOutput(dataTable, element);\n",
              "        const docLink = document.createElement('div');\n",
              "        docLink.innerHTML = docLinkHtml;\n",
              "        element.appendChild(docLink);\n",
              "      }\n",
              "    </script>\n",
              "  </div>\n",
              "\n",
              "\n",
              "<div id=\"df-9ccc0c3a-2b9f-4948-b9f9-a220a0e26a50\">\n",
              "  <button class=\"colab-df-quickchart\" onclick=\"quickchart('df-9ccc0c3a-2b9f-4948-b9f9-a220a0e26a50')\"\n",
              "            title=\"Suggest charts\"\n",
              "            style=\"display:none;\">\n",
              "\n",
              "<svg xmlns=\"http://www.w3.org/2000/svg\" height=\"24px\"viewBox=\"0 0 24 24\"\n",
              "     width=\"24px\">\n",
              "    <g>\n",
              "        <path d=\"M19 3H5c-1.1 0-2 .9-2 2v14c0 1.1.9 2 2 2h14c1.1 0 2-.9 2-2V5c0-1.1-.9-2-2-2zM9 17H7v-7h2v7zm4 0h-2V7h2v10zm4 0h-2v-4h2v4z\"/>\n",
              "    </g>\n",
              "</svg>\n",
              "  </button>\n",
              "\n",
              "<style>\n",
              "  .colab-df-quickchart {\n",
              "      --bg-color: #E8F0FE;\n",
              "      --fill-color: #1967D2;\n",
              "      --hover-bg-color: #E2EBFA;\n",
              "      --hover-fill-color: #174EA6;\n",
              "      --disabled-fill-color: #AAA;\n",
              "      --disabled-bg-color: #DDD;\n",
              "  }\n",
              "\n",
              "  [theme=dark] .colab-df-quickchart {\n",
              "      --bg-color: #3B4455;\n",
              "      --fill-color: #D2E3FC;\n",
              "      --hover-bg-color: #434B5C;\n",
              "      --hover-fill-color: #FFFFFF;\n",
              "      --disabled-bg-color: #3B4455;\n",
              "      --disabled-fill-color: #666;\n",
              "  }\n",
              "\n",
              "  .colab-df-quickchart {\n",
              "    background-color: var(--bg-color);\n",
              "    border: none;\n",
              "    border-radius: 50%;\n",
              "    cursor: pointer;\n",
              "    display: none;\n",
              "    fill: var(--fill-color);\n",
              "    height: 32px;\n",
              "    padding: 0;\n",
              "    width: 32px;\n",
              "  }\n",
              "\n",
              "  .colab-df-quickchart:hover {\n",
              "    background-color: var(--hover-bg-color);\n",
              "    box-shadow: 0 1px 2px rgba(60, 64, 67, 0.3), 0 1px 3px 1px rgba(60, 64, 67, 0.15);\n",
              "    fill: var(--button-hover-fill-color);\n",
              "  }\n",
              "\n",
              "  .colab-df-quickchart-complete:disabled,\n",
              "  .colab-df-quickchart-complete:disabled:hover {\n",
              "    background-color: var(--disabled-bg-color);\n",
              "    fill: var(--disabled-fill-color);\n",
              "    box-shadow: none;\n",
              "  }\n",
              "\n",
              "  .colab-df-spinner {\n",
              "    border: 2px solid var(--fill-color);\n",
              "    border-color: transparent;\n",
              "    border-bottom-color: var(--fill-color);\n",
              "    animation:\n",
              "      spin 1s steps(1) infinite;\n",
              "  }\n",
              "\n",
              "  @keyframes spin {\n",
              "    0% {\n",
              "      border-color: transparent;\n",
              "      border-bottom-color: var(--fill-color);\n",
              "      border-left-color: var(--fill-color);\n",
              "    }\n",
              "    20% {\n",
              "      border-color: transparent;\n",
              "      border-left-color: var(--fill-color);\n",
              "      border-top-color: var(--fill-color);\n",
              "    }\n",
              "    30% {\n",
              "      border-color: transparent;\n",
              "      border-left-color: var(--fill-color);\n",
              "      border-top-color: var(--fill-color);\n",
              "      border-right-color: var(--fill-color);\n",
              "    }\n",
              "    40% {\n",
              "      border-color: transparent;\n",
              "      border-right-color: var(--fill-color);\n",
              "      border-top-color: var(--fill-color);\n",
              "    }\n",
              "    60% {\n",
              "      border-color: transparent;\n",
              "      border-right-color: var(--fill-color);\n",
              "    }\n",
              "    80% {\n",
              "      border-color: transparent;\n",
              "      border-right-color: var(--fill-color);\n",
              "      border-bottom-color: var(--fill-color);\n",
              "    }\n",
              "    90% {\n",
              "      border-color: transparent;\n",
              "      border-bottom-color: var(--fill-color);\n",
              "    }\n",
              "  }\n",
              "</style>\n",
              "\n",
              "  <script>\n",
              "    async function quickchart(key) {\n",
              "      const quickchartButtonEl =\n",
              "        document.querySelector('#' + key + ' button');\n",
              "      quickchartButtonEl.disabled = true;  // To prevent multiple clicks.\n",
              "      quickchartButtonEl.classList.add('colab-df-spinner');\n",
              "      try {\n",
              "        const charts = await google.colab.kernel.invokeFunction(\n",
              "            'suggestCharts', [key], {});\n",
              "      } catch (error) {\n",
              "        console.error('Error during call to suggestCharts:', error);\n",
              "      }\n",
              "      quickchartButtonEl.classList.remove('colab-df-spinner');\n",
              "      quickchartButtonEl.classList.add('colab-df-quickchart-complete');\n",
              "    }\n",
              "    (() => {\n",
              "      let quickchartButtonEl =\n",
              "        document.querySelector('#df-9ccc0c3a-2b9f-4948-b9f9-a220a0e26a50 button');\n",
              "      quickchartButtonEl.style.display =\n",
              "        google.colab.kernel.accessAllowed ? 'block' : 'none';\n",
              "    })();\n",
              "  </script>\n",
              "</div>\n",
              "\n",
              "    </div>\n",
              "  </div>\n"
            ],
            "application/vnd.google.colaboratory.intrinsic+json": {
              "type": "dataframe",
              "variable_name": "data",
              "summary": "{\n  \"name\": \"data\",\n  \"rows\": 30000,\n  \"fields\": [\n    {\n      \"column\": \"Title\",\n      \"properties\": {\n        \"dtype\": \"string\",\n        \"num_unique_values\": 28216,\n        \"samples\": [\n          \"Career property.\",\n          \"Nature poor.\",\n          \"Authority deal manage.\"\n        ],\n        \"semantic_type\": \"\",\n        \"description\": \"\"\n      }\n    },\n    {\n      \"column\": \"Director\",\n      \"properties\": {\n        \"dtype\": \"string\",\n        \"num_unique_values\": 25844,\n        \"samples\": [\n          \"Christopher Cruz\",\n          \"Alexandria Graham\",\n          \"Jamie Taylor\"\n        ],\n        \"semantic_type\": \"\",\n        \"description\": \"\"\n      }\n    },\n    {\n      \"column\": \"Genre\",\n      \"properties\": {\n        \"dtype\": \"category\",\n        \"num_unique_values\": 10,\n        \"samples\": [\n          \"Action\",\n          \"Documentary\",\n          \"Sci-Fi\"\n        ],\n        \"semantic_type\": \"\",\n        \"description\": \"\"\n      }\n    },\n    {\n      \"column\": \"Duration\",\n      \"properties\": {\n        \"dtype\": \"object\",\n        \"num_unique_values\": 121,\n        \"samples\": [\n          \"1970-01-01 00:00:00.000000130\",\n          \"1970-01-01 00:00:00.000000112\",\n          \"1970-01-01 00:00:00.000000177\"\n        ],\n        \"semantic_type\": \"\",\n        \"description\": \"\"\n      }\n    },\n    {\n      \"column\": \"Rating\",\n      \"properties\": {\n        \"dtype\": \"number\",\n        \"std\": 2,\n        \"min\": 1,\n        \"max\": 10,\n        \"num_unique_values\": 10,\n        \"samples\": [\n          9,\n          7,\n          8\n        ],\n        \"semantic_type\": \"\",\n        \"description\": \"\"\n      }\n    }\n  ]\n}"
            }
          },
          "metadata": {},
          "execution_count": 1
        }
      ],
      "source": [
        "import pandas as pd\n",
        "import numpy as np\n",
        "data=pd.read_csv(\"/content/cleaned_dataset.csv\")\n",
        "data.head()"
      ]
    },
    {
      "cell_type": "markdown",
      "source": [
        "One Sample T-test\n",
        "Hypothesis: Test if the average movie rating is different from 9.\n"
      ],
      "metadata": {
        "id": "3vbgP4Z1waNZ"
      }
    },
    {
      "cell_type": "code",
      "source": [
        "from scipy import stats\n",
        "import pandas as pd\n",
        "df=pd.DataFrame(data)\n",
        "t_stat, p_value = stats.ttest_1samp(df['Rating'], 9)\n",
        "\n",
        "print(\"One-Sample t-test\")\n",
        "print(\"T-statistic:\", t_stat)\n",
        "print(\"P-value:\", p_value)\n",
        "if p_value < 0.05:\n",
        "    print(\"Reject the null hypothesis. The mean rating is significantly different from 9.\")\n",
        "else:\n",
        "    print(\"Fail to reject the null hypothesis. The mean rating is not significantly different from 9.\")\n",
        "\n"
      ],
      "metadata": {
        "colab": {
          "base_uri": "https://localhost:8080/"
        },
        "id": "S9RvwVTXujjj",
        "outputId": "d854c9cf-3edc-46ae-86b5-eca6fdbc990d"
      },
      "execution_count": 8,
      "outputs": [
        {
          "output_type": "stream",
          "name": "stdout",
          "text": [
            "One-Sample t-test\n",
            "T-statistic: -263.4180324436471\n",
            "P-value: 0.0\n",
            "Reject the null hypothesis. The mean rating is significantly different from 9.\n"
          ]
        }
      ]
    },
    {
      "cell_type": "markdown",
      "source": [
        "Two-sample T test\n",
        "Hypothesis: Test if the average rating of two different genres is significantly different.\n"
      ],
      "metadata": {
        "id": "hLDkdYPUwgCH"
      }
    },
    {
      "cell_type": "markdown",
      "source": [],
      "metadata": {
        "id": "Oh4buM3IwXI8"
      }
    },
    {
      "cell_type": "code",
      "source": [
        "# Group by genre\n",
        "group1 = df[df['Genre'] == 'Action']['Rating']\n",
        "group2 = df[df['Genre'] == 'Comedy']['Rating']\n",
        "\n",
        "# Conduct the two-sample t-test\n",
        "t_stat, p_value = stats.ttest_ind(group1, group2)\n",
        "\n",
        "# Print the results\n",
        "print(\"Two-Sample t-test\")\n",
        "print(\"T-statistic:\", t_stat)\n",
        "print(\"P-value:\", p_value)\n",
        "\n",
        "# Interpretation\n",
        "if p_value < 0.05:\n",
        "    print(\"Reject the null hypothesis. The mean ratings of Action and Comedy movies are significantly different.\")\n",
        "else:\n",
        "    print(\"Fail to reject the null hypothesis. The mean ratings of Action and Comedy movies are not significantly different.\")\n"
      ],
      "metadata": {
        "colab": {
          "base_uri": "https://localhost:8080/"
        },
        "id": "DRptAHH8vjYg",
        "outputId": "699d0b2c-4880-4e2a-b696-5de9a87f7fbf"
      },
      "execution_count": 9,
      "outputs": [
        {
          "output_type": "stream",
          "name": "stdout",
          "text": [
            "Two-Sample t-test\n",
            "T-statistic: -0.22484945026372546\n",
            "P-value: 0.822104069946106\n",
            "Fail to reject the null hypothesis. The mean ratings of Action and Comedy movies are not significantly different.\n"
          ]
        }
      ]
    },
    {
      "cell_type": "markdown",
      "source": [],
      "metadata": {
        "id": "47r8q2kRw1Pd"
      }
    },
    {
      "cell_type": "markdown",
      "source": [
        "ANOVA\n",
        "Hypothesis: Test if the average rating differs across multiple genres.\n"
      ],
      "metadata": {
        "id": "TE_ltSZ-xQF3"
      }
    },
    {
      "cell_type": "code",
      "source": [
        "# Group ratings by genre\n",
        "action_ratings = df[df['Genre'] == 'Action']['Rating']\n",
        "comedy_ratings = df[df['Genre'] == 'Comedy']['Rating']\n",
        "drama_ratings = df[df['Genre'] == 'Drama']['Rating']\n",
        "\n",
        "# Conduct the ANOVA\n",
        "f_stat, p_value = stats.f_oneway(action_ratings, comedy_ratings, drama_ratings)\n",
        "\n",
        "# Print the results\n",
        "print(\"ANOVA\")\n",
        "print(\"F-statistic:\", f_stat)\n",
        "print(\"P-value:\", p_value)\n",
        "\n",
        "# Interpretation\n",
        "if p_value < 0.05:\n",
        "    print(\"Reject the null hypothesis. There is a significant difference in mean ratings across genres.\")\n",
        "else:\n",
        "    print(\"Fail to reject the null hypothesis. There is no significant difference in mean ratings across genres.\")\n"
      ],
      "metadata": {
        "colab": {
          "base_uri": "https://localhost:8080/"
        },
        "id": "dDejFUqhxZz-",
        "outputId": "f4d99b71-e6ac-4eac-9f89-3520fcb01608"
      },
      "execution_count": 10,
      "outputs": [
        {
          "output_type": "stream",
          "name": "stdout",
          "text": [
            "ANOVA\n",
            "F-statistic: 0.41586755735488423\n",
            "P-value: 0.6597803702923142\n",
            "Fail to reject the null hypothesis. There is no significant difference in mean ratings across genres.\n"
          ]
        }
      ]
    },
    {
      "cell_type": "markdown",
      "source": [
        "CHI-SQUARE TEST"
      ],
      "metadata": {
        "id": "TdqU69xFyxyl"
      }
    },
    {
      "cell_type": "code",
      "source": [
        "import pandas as pd\n",
        "from scipy.stats import chi2_contingency\n",
        "contingency_table = pd.crosstab(df['Genre'], df['Director'])\n",
        "\n",
        "# Perform the Chi-Square test\n",
        "chi2_stat, p_value, dof, expected = chi2_contingency(contingency_table)\n",
        "\n",
        "# Print the results\n",
        "print(\"Chi-Square Test\")\n",
        "print(\"Chi2 Statistic:\", chi2_stat)\n",
        "print(\"P-value:\", p_value)\n",
        "print(\"Degrees of Freedom:\", dof)\n",
        "print(\"Expected Frequencies Table:\\n\", expected)\n",
        "\n",
        "# Interpretation\n",
        "if p_value < 0.05:\n",
        "    print(\"Reject the null hypothesis. There is a significant association between Genre and Director.\")\n",
        "else:\n",
        "    print(\"Fail to reject the null hypothesis. There is no significant association between Genre and Director.\")\n"
      ],
      "metadata": {
        "colab": {
          "base_uri": "https://localhost:8080/"
        },
        "id": "lqsOUxtIyZn2",
        "outputId": "a8bbc624-5ebf-41bf-c0bb-706d36244ad4"
      },
      "execution_count": 12,
      "outputs": [
        {
          "output_type": "stream",
          "name": "stdout",
          "text": [
            "Chi-Square Test\n",
            "Chi2 Statistic: 232617.76207163403\n",
            "P-value: 0.481623754129552\n",
            "Degrees of Freedom: 232587\n",
            "Expected Frequencies Table:\n",
            " [[0.10063333 0.10063333 0.10063333 ... 0.10063333 0.10063333 0.10063333]\n",
            " [0.09966667 0.09966667 0.09966667 ... 0.09966667 0.09966667 0.09966667]\n",
            " [0.09896667 0.09896667 0.09896667 ... 0.09896667 0.09896667 0.09896667]\n",
            " ...\n",
            " [0.0997     0.0997     0.0997     ... 0.0997     0.0997     0.0997    ]\n",
            " [0.10063333 0.10063333 0.10063333 ... 0.10063333 0.10063333 0.10063333]\n",
            " [0.10046667 0.10046667 0.10046667 ... 0.10046667 0.10046667 0.10046667]]\n",
            "Fail to reject the null hypothesis. There is no significant association between Genre and Director.\n"
          ]
        }
      ]
    },
    {
      "cell_type": "markdown",
      "source": [
        "visualizations for  supporting Hypothesis Testing:"
      ],
      "metadata": {
        "id": "uBUwR1ebxw_r"
      }
    },
    {
      "cell_type": "code",
      "source": [
        "import seaborn as sns\n",
        "import matplotlib.pyplot as plt\n",
        "\n",
        "# Boxplot by genre\n",
        "sns.boxplot(x='Genre', y='Rating', data=df)\n",
        "plt.title('Boxplot of Ratings by Genre')\n",
        "plt.show()\n"
      ],
      "metadata": {
        "colab": {
          "base_uri": "https://localhost:8080/",
          "height": 472
        },
        "id": "QcVXVcQIxjA-",
        "outputId": "a758bedb-e10b-4718-987d-6db6030abfb5"
      },
      "execution_count": 11,
      "outputs": [
        {
          "output_type": "display_data",
          "data": {
            "text/plain": [
              "<Figure size 640x480 with 1 Axes>"
            ],
            "image/png": "[encoded data removed]"
          },
          "metadata": {}
        }
      ]
    },
    {
      "cell_type": "markdown",
      "source": [
        "visualization using bar plot\n",
        "\n"
      ],
      "metadata": {
        "id": "ci3p1lg9yDdl"
      }
    },
    {
      "cell_type": "code",
      "source": [
        "df.groupby('Genre')['Rating'].mean().plot(kind='bar', figsize=(8, 6))\n",
        "plt.title('Average Ratings by Genre')\n",
        "plt.xlabel('Genre')\n",
        "plt.ylabel('Average Rating')\n",
        "plt.show()\n"
      ],
      "metadata": {
        "colab": {
          "base_uri": "https://localhost:8080/",
          "height": 645
        },
        "id": "Y3NsvDaCzR2k",
        "outputId": "16ffd441-bf6a-491b-ae9f-48d0feb4667d"
      },
      "execution_count": 13,
      "outputs": [
        {
          "output_type": "display_data",
          "data": {
            "text/plain": [
              "<Figure size 800x600 with 1 Axes>"
            ],
            "image/png": "[encoded data removed]"
          },
          "metadata": {}
        }
      ]
    }
  ]
}